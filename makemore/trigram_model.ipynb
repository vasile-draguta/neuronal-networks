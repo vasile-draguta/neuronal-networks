{
 "cells": [
  {
   "cell_type": "code",
   "execution_count": 55,
   "id": "9f63478d-8ccf-44f9-8799-b56ead3f1e75",
   "metadata": {},
   "outputs": [],
   "source": [
    "import torch\n",
    "import torch.nn.functional as F"
   ]
  },
  {
   "cell_type": "code",
   "execution_count": 56,
   "id": "5f2df447-25c3-43b7-9a80-75e97f9d65e7",
   "metadata": {},
   "outputs": [],
   "source": [
    "words = open('names.txt', 'r').read().split()"
   ]
  },
  {
   "cell_type": "code",
   "execution_count": 63,
   "id": "93cc3a4e-d757-4eb1-b4b9-5eb5a10cce7c",
   "metadata": {},
   "outputs": [],
   "source": [
    "import itertools\n",
    "\n",
    "chars = sorted(list(set(''.join(words))))\n",
    "chars.append('.')\n",
    "\n",
    "stoi = {s:i+1 for i, s in enumerate(chars)}\n",
    "stoi['.'] = 0\n",
    "itos = {i:s for s, i in stoi.items()}\n",
    "\n",
    "# Generate all possible pairs of characters\n",
    "all_possible_pairs = list(itertools.product(chars, repeat=2))\n",
    "\n",
    "stoi_pairs = {pair: i for i, pair in enumerate(all_possible_pairs)}\n",
    "\n",
    "itos_pairs = {i: pair for i, pair in enumerate(all_possible_pairs)}"
   ]
  },
  {
   "cell_type": "code",
   "execution_count": 58,
   "id": "fb5cb380-9978-42ea-934d-81ae806ea24e",
   "metadata": {},
   "outputs": [],
   "source": [
    "xs, ys = [], []\n",
    "\n",
    "for w in words:\n",
    "    chs = ['.'] + list(w) + ['.']\n",
    "    for ch1, ch2, ch3 in zip(chs, chs[1:], chs[2:]):\n",
    "        ix1 = stoi_pairs[(ch1, ch2)]\n",
    "        ix2 = stoi[ch3]\n",
    "        # print(ch1, ch2, ch3)\n",
    "        xs.append(ix1)\n",
    "        ys.append(ix2)\n",
    "\n",
    "xs = torch.tensor(xs)\n",
    "ys = torch.tensor(ys)\n",
    "num = xs.nelement()\n",
    "g = torch.Generator().manual_seed(2147483647)\n",
    "W = torch.randn((729, 27), generator=g, requires_grad=True)"
   ]
  },
  {
   "cell_type": "code",
   "execution_count": 88,
   "id": "f0e79138-f5c6-418d-abf7-2355f5048742",
   "metadata": {
    "scrolled": true
   },
   "outputs": [
    {
     "name": "stdout",
     "output_type": "stream",
     "text": [
      "2.1618266105651855\n"
     ]
    }
   ],
   "source": [
    "# gradient descent\n",
    "for k in range(100):\n",
    "  \n",
    "  # forward pass\n",
    "  xenc = F.one_hot(xs, num_classes=729).float() # input to the network: one-hot encoding\n",
    "  logits = xenc @ W # predict log-counts\n",
    "  counts = logits.exp() # counts, equivalent to N\n",
    "  probs = counts / counts.sum(1, keepdims=True) # probabilities for next character\n",
    "  loss = -probs[torch.arange(num), ys].log().mean() + 0.01*(W**2).mean()\n",
    "  # print(loss.item())\n",
    "  \n",
    "  # backward pass\n",
    "  W.grad = None # set to zero the gradient\n",
    "  loss.backward()\n",
    "  \n",
    "  # update\n",
    "  W.data += -50 * W.grad\n",
    "print(loss.item())"
   ]
  },
  {
   "cell_type": "code",
   "execution_count": 94,
   "id": "0ebd6c7b-8e0e-42e4-8261-4740b90c2a7c",
   "metadata": {},
   "outputs": [
    {
     "data": {
      "text/plain": [
       "['ola',\n",
       " 'ilfvjfjqcwhibmhyklynn',\n",
       " 'taidfvfinea',\n",
       " 'mia',\n",
       " 'znh',\n",
       " 'royah',\n",
       " 'zggh',\n",
       " 'gicyber',\n",
       " 'iraeqljion',\n",
       " 'dulinickeiji']"
      ]
     },
     "execution_count": 94,
     "metadata": {},
     "output_type": "execute_result"
    }
   ],
   "source": [
    "generator = torch.Generator().manual_seed(9)\n",
    "generated_names = []\n",
    "for i in range(10):\n",
    "    out = []\n",
    "    context = ['.', '.']  # Starting with a bigram representing the start token ('.')\n",
    "    \n",
    "    while True:\n",
    "        # Map the bigram (context) to a unique index\n",
    "        context_index = stoi_pairs[tuple(context)]  # Bigram index from the pair\n",
    "        \n",
    "        # One-hot encode the context index (bigram)\n",
    "        x_encoded = F.one_hot(torch.tensor([context_index]), num_classes=729).float()\n",
    "\n",
    "        # Forward pass through the model\n",
    "        logits = x_encoded @ W # Matrix multiplication\n",
    "        counts = logits.exp()  # Convert logits to counts\n",
    "        probas = counts / counts.sum(1, keepdims=True)  # Convert to probabilities\n",
    "        \n",
    "        # Sample the next character index from the probabilities\n",
    "        ix = torch.multinomial(probas, num_samples=1, replacement=True, generator=generator).item()\n",
    "        \n",
    "        # Break if end token is predicted\n",
    "        if ix == 0:\n",
    "            break\n",
    "            \n",
    "        # Append the predicted character and shift context\n",
    "        out.append(itos[ix])\n",
    "        context = [context[1], itos[ix]]  # Shift the bigram for next prediction\n",
    "    \n",
    "    generated_names.append(''.join(out))\n",
    "generated_names"
   ]
  },
  {
   "cell_type": "code",
   "execution_count": null,
   "id": "61767567-139a-47c9-90f2-72af7d069ebc",
   "metadata": {},
   "outputs": [],
   "source": []
  }
 ],
 "metadata": {
  "kernelspec": {
   "display_name": "Python 3 (ipykernel)",
   "language": "python",
   "name": "python3"
  },
  "language_info": {
   "codemirror_mode": {
    "name": "ipython",
    "version": 3
   },
   "file_extension": ".py",
   "mimetype": "text/x-python",
   "name": "python",
   "nbconvert_exporter": "python",
   "pygments_lexer": "ipython3",
   "version": "3.11.10"
  }
 },
 "nbformat": 4,
 "nbformat_minor": 5
}
